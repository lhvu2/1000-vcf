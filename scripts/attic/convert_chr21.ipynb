{
 "cells": [
  {
   "cell_type": "code",
   "execution_count": 2,
   "id": "0fb793df",
   "metadata": {},
   "outputs": [],
   "source": [
    "%load_ext autoreload"
   ]
  },
  {
   "cell_type": "code",
   "execution_count": 3,
   "id": "536b10f3",
   "metadata": {},
   "outputs": [],
   "source": [
    "import pandas as pd\n",
    "import os\n",
    "from os.path import join, basename\n",
    "import gzip"
   ]
  },
  {
   "cell_type": "code",
   "execution_count": 4,
   "id": "c0993c6a",
   "metadata": {},
   "outputs": [
    {
     "data": {
      "text/plain": [
       "'2.2.2'"
      ]
     },
     "execution_count": 4,
     "metadata": {},
     "output_type": "execute_result"
    }
   ],
   "source": [
    "pd.__version__"
   ]
  },
  {
   "cell_type": "code",
   "execution_count": 5,
   "id": "3792d9f6",
   "metadata": {},
   "outputs": [],
   "source": [
    "ids = ['HG02070','HG01849','HG01874','HG01599','HG02525','HG02015','HG01872','HG02121','HG02083','HG02078','HG02128','HG02045','HG02087','HG02027','HG01846','HG02113','HG02088','HG02126','HG02140','HG02086','HG02023','HG01843','HG02081','HG01865','HG01597','HG01873','HG02085','HG02139','HG01847','HG02073','HG02524','HG01848','HG02079','HG02133','HG02028','HG01869','HG02523','HG02035','HG02137','HG02071','HG02029','HG01842','HG02138','HG02116','HG02084','HG02068','HG02080','HG01867','HG02025','HG02120','HG01844','HG01850','HG02136','HG02075','HG01857','HG01855','HG02077','HG02016','HG01866','HG02024','HG02522','HG02048','HG02026','HG02130','HG01861','HG01596','HG02047','HG02129','HG01841','HG02060','HG01863','HG02134','HG02059','HG02046','HG02067','HG02020','HG01878','HG02526','HG02072','HG01864','HG01870','HG02512','HG02069','HG01871','HG02141','HG02082','HG02074','HG01860','HG02049','HG02056','HG02135','HG01859','HG01845','HG02142','HG02132','HG02122','HG01868','HG02019','HG01858','HG02127','HG02032','HG02017','HG02513','HG02057','HG02040','HG02521','HG02050','HG02031','HG01853','HG02061','HG01840','HG02131','HG01851','HG02030','HG02058','HG01595','HG02018','HG01598','HG02064','HG01600','HG02514','HG01862','HG01852','HG02076']"
   ]
  },
  {
   "cell_type": "code",
   "execution_count": 6,
   "id": "14b4b2eb",
   "metadata": {},
   "outputs": [],
   "source": [
    "indir = \"/home/lhvu/bio/1000-vcf/vcf/zip\"\n",
    "outdir = \"/home/lhvu/bio/1000-vcf/vcf/parsed\"\n"
   ]
  },
  {
   "cell_type": "code",
   "execution_count": 25,
   "id": "84accd0f",
   "metadata": {},
   "outputs": [],
   "source": [
    "infile = join(indir, \"ALL.chr21.shapeit2_integrated_snvindels_v2a_27022019.GRCh38.phased.vcf\")\n",
    "infile_gz = join(indir, \"ALL.chr21.shapeit2_integrated_snvindels_v2a_27022019.GRCh38.phased.vcf.gz\")"
   ]
  },
  {
   "cell_type": "code",
   "execution_count": 26,
   "id": "ffc548df",
   "metadata": {},
   "outputs": [],
   "source": [
    "\n",
    "outfile = join(outdir, \"ALL.chr21.shapeit2_integrated_snvindels_v2a_27022019.GRCh38.phased.vcf.csv\")\n",
    "outfile_gz = join(outdir, \"ALL.chr21.shapeit2_integrated_snvindels_v2a_27022019.GRCh38.phased.vcf.csv.gz\")"
   ]
  },
  {
   "cell_type": "code",
   "execution_count": 9,
   "id": "a3535a81",
   "metadata": {},
   "outputs": [],
   "source": [
    "metacols = ['#CHROM', 'POS', 'ID', 'REF', 'ALT', 'QUAL', 'FILTER', 'INFO', 'FORMAT']"
   ]
  },
  {
   "cell_type": "code",
   "execution_count": 11,
   "id": "d1134934",
   "metadata": {},
   "outputs": [],
   "source": [
    "vn_genome_ids = ['HG02070', 'HG01849', 'HG01874', 'HG01599', 'HG01872', 'HG02121', 'HG02078', 'HG02128', 'HG02087', 'HG01846', 'HG02113', 'HG02088', 'HG02140', 'HG02086', 'HG02023', 'HG01843', 'HG02081', 'HG01865', 'HG01597', 'HG01873', 'HG02085', 'HG02139', 'HG01847', 'HG02073', 'HG01848', 'HG02079', 'HG02133', 'HG02028', 'HG01869', 'HG02035', 'HG02137', 'HG02029', 'HG01842', 'HG02138', 'HG02116', 'HG02084', 'HG01867', 'HG02025', 'HG01844', 'HG01850', 'HG02136', 'HG02075', 'HG01857', 'HG01855', 'HG02016', 'HG01866', 'HG02522', 'HG02048', 'HG02026', 'HG02130', 'HG01861', 'HG01596', 'HG02047', 'HG01841', 'HG02060', 'HG01863', 'HG02134', 'HG02067', 'HG02020', 'HG01878', 'HG02072', 'HG01864', 'HG01870', 'HG02512', 'HG02069', 'HG01871', 'HG02141', 'HG02082', 'HG01860', 'HG02049', 'HG01859', 'HG01845', 'HG02142', 'HG02122', 'HG01868', 'HG02019', 'HG01858', 'HG02127', 'HG02032', 'HG02017', 'HG02513', 'HG02057', 'HG02040', 'HG02521', 'HG02050', 'HG02031', 'HG01853', 'HG02061', 'HG01840', 'HG02131', 'HG01851', 'HG02058', 'HG01595', 'HG01598', 'HG02064', 'HG01600', 'HG01862', 'HG01852', 'HG02076']"
   ]
  },
  {
   "cell_type": "code",
   "execution_count": 12,
   "id": "c5066974",
   "metadata": {},
   "outputs": [
    {
     "data": {
      "text/plain": [
       "99"
      ]
     },
     "execution_count": 12,
     "metadata": {},
     "output_type": "execute_result"
    }
   ],
   "source": [
    "len(vn_genome_ids)"
   ]
  },
  {
   "cell_type": "code",
   "execution_count": 13,
   "id": "a656b185",
   "metadata": {},
   "outputs": [],
   "source": [
    "cols = metacols + vn_genome_ids"
   ]
  },
  {
   "cell_type": "code",
   "execution_count": 14,
   "id": "9e25e7ff",
   "metadata": {},
   "outputs": [],
   "source": [
    "skiprows = len([i for i in range(19)]) - 1"
   ]
  },
  {
   "cell_type": "code",
   "execution_count": 15,
   "id": "867fe978",
   "metadata": {},
   "outputs": [],
   "source": [
    "skiprows = [i for i in range(19)]"
   ]
  },
  {
   "cell_type": "code",
   "execution_count": 24,
   "id": "749501d8",
   "metadata": {},
   "outputs": [],
   "source": [
    "#cols"
   ]
  },
  {
   "cell_type": "code",
   "execution_count": 17,
   "id": "08554286",
   "metadata": {},
   "outputs": [],
   "source": [
    "\n",
    "df = pd.read_csv(infile, sep = \"\\t\", skiprows=skiprows, usecols=cols)\n"
   ]
  },
  {
   "cell_type": "code",
   "execution_count": 18,
   "id": "05475a05",
   "metadata": {},
   "outputs": [
    {
     "data": {
      "text/html": [
       "<div>\n",
       "<style scoped>\n",
       "    .dataframe tbody tr th:only-of-type {\n",
       "        vertical-align: middle;\n",
       "    }\n",
       "\n",
       "    .dataframe tbody tr th {\n",
       "        vertical-align: top;\n",
       "    }\n",
       "\n",
       "    .dataframe thead th {\n",
       "        text-align: right;\n",
       "    }\n",
       "</style>\n",
       "<table border=\"1\" class=\"dataframe\">\n",
       "  <thead>\n",
       "    <tr style=\"text-align: right;\">\n",
       "      <th></th>\n",
       "      <th>#CHROM</th>\n",
       "      <th>POS</th>\n",
       "      <th>ID</th>\n",
       "      <th>REF</th>\n",
       "      <th>ALT</th>\n",
       "      <th>QUAL</th>\n",
       "      <th>FILTER</th>\n",
       "      <th>INFO</th>\n",
       "      <th>FORMAT</th>\n",
       "      <th>HG01595</th>\n",
       "      <th>...</th>\n",
       "      <th>HG02137</th>\n",
       "      <th>HG02138</th>\n",
       "      <th>HG02139</th>\n",
       "      <th>HG02140</th>\n",
       "      <th>HG02141</th>\n",
       "      <th>HG02142</th>\n",
       "      <th>HG02512</th>\n",
       "      <th>HG02513</th>\n",
       "      <th>HG02521</th>\n",
       "      <th>HG02522</th>\n",
       "    </tr>\n",
       "  </thead>\n",
       "  <tbody>\n",
       "    <tr>\n",
       "      <th>0</th>\n",
       "      <td>21</td>\n",
       "      <td>5033871</td>\n",
       "      <td>.</td>\n",
       "      <td>G</td>\n",
       "      <td>A</td>\n",
       "      <td>.</td>\n",
       "      <td>PASS</td>\n",
       "      <td>AC=5;AN=5096;DP=7186;AF=0;EAS_AF=0;EUR_AF=0;AF...</td>\n",
       "      <td>GT</td>\n",
       "      <td>0|0</td>\n",
       "      <td>...</td>\n",
       "      <td>0|0</td>\n",
       "      <td>0|0</td>\n",
       "      <td>0|0</td>\n",
       "      <td>0|0</td>\n",
       "      <td>0|0</td>\n",
       "      <td>0|0</td>\n",
       "      <td>0|0</td>\n",
       "      <td>0|0</td>\n",
       "      <td>0|0</td>\n",
       "      <td>0|0</td>\n",
       "    </tr>\n",
       "    <tr>\n",
       "      <th>1</th>\n",
       "      <td>21</td>\n",
       "      <td>5033884</td>\n",
       "      <td>.</td>\n",
       "      <td>G</td>\n",
       "      <td>A</td>\n",
       "      <td>.</td>\n",
       "      <td>PASS</td>\n",
       "      <td>AC=463;AN=5096;DP=6818;AF=0.09;EAS_AF=0.02;EUR...</td>\n",
       "      <td>GT</td>\n",
       "      <td>0|0</td>\n",
       "      <td>...</td>\n",
       "      <td>0|0</td>\n",
       "      <td>0|0</td>\n",
       "      <td>0|0</td>\n",
       "      <td>0|0</td>\n",
       "      <td>0|0</td>\n",
       "      <td>0|0</td>\n",
       "      <td>0|0</td>\n",
       "      <td>0|0</td>\n",
       "      <td>1|0</td>\n",
       "      <td>0|0</td>\n",
       "    </tr>\n",
       "    <tr>\n",
       "      <th>2</th>\n",
       "      <td>21</td>\n",
       "      <td>5033887</td>\n",
       "      <td>.</td>\n",
       "      <td>G</td>\n",
       "      <td>A</td>\n",
       "      <td>.</td>\n",
       "      <td>PASS</td>\n",
       "      <td>AC=32;AN=5096;DP=6774;AF=0.01;EAS_AF=0;EUR_AF=...</td>\n",
       "      <td>GT</td>\n",
       "      <td>0|0</td>\n",
       "      <td>...</td>\n",
       "      <td>0|0</td>\n",
       "      <td>0|0</td>\n",
       "      <td>0|0</td>\n",
       "      <td>0|0</td>\n",
       "      <td>0|0</td>\n",
       "      <td>0|0</td>\n",
       "      <td>0|0</td>\n",
       "      <td>0|0</td>\n",
       "      <td>0|0</td>\n",
       "      <td>0|0</td>\n",
       "    </tr>\n",
       "    <tr>\n",
       "      <th>3</th>\n",
       "      <td>21</td>\n",
       "      <td>5035658</td>\n",
       "      <td>.</td>\n",
       "      <td>C</td>\n",
       "      <td>T</td>\n",
       "      <td>.</td>\n",
       "      <td>PASS</td>\n",
       "      <td>AC=2016;AN=5096;DP=12604;AF=0.4;EAS_AF=0.63;EU...</td>\n",
       "      <td>GT</td>\n",
       "      <td>1|1</td>\n",
       "      <td>...</td>\n",
       "      <td>0|0</td>\n",
       "      <td>0|0</td>\n",
       "      <td>1|1</td>\n",
       "      <td>0|1</td>\n",
       "      <td>1|1</td>\n",
       "      <td>1|1</td>\n",
       "      <td>1|1</td>\n",
       "      <td>0|0</td>\n",
       "      <td>0|1</td>\n",
       "      <td>1|0</td>\n",
       "    </tr>\n",
       "    <tr>\n",
       "      <th>4</th>\n",
       "      <td>21</td>\n",
       "      <td>5038298</td>\n",
       "      <td>.</td>\n",
       "      <td>A</td>\n",
       "      <td>G</td>\n",
       "      <td>.</td>\n",
       "      <td>PASS</td>\n",
       "      <td>AC=649;AN=5096;DP=10027;AF=0.13;EAS_AF=0.02;EU...</td>\n",
       "      <td>GT</td>\n",
       "      <td>0|0</td>\n",
       "      <td>...</td>\n",
       "      <td>0|0</td>\n",
       "      <td>0|0</td>\n",
       "      <td>0|0</td>\n",
       "      <td>0|0</td>\n",
       "      <td>0|0</td>\n",
       "      <td>0|0</td>\n",
       "      <td>0|0</td>\n",
       "      <td>0|0</td>\n",
       "      <td>1|0</td>\n",
       "      <td>0|0</td>\n",
       "    </tr>\n",
       "    <tr>\n",
       "      <th>...</th>\n",
       "      <td>...</td>\n",
       "      <td>...</td>\n",
       "      <td>...</td>\n",
       "      <td>...</td>\n",
       "      <td>...</td>\n",
       "      <td>...</td>\n",
       "      <td>...</td>\n",
       "      <td>...</td>\n",
       "      <td>...</td>\n",
       "      <td>...</td>\n",
       "      <td>...</td>\n",
       "      <td>...</td>\n",
       "      <td>...</td>\n",
       "      <td>...</td>\n",
       "      <td>...</td>\n",
       "      <td>...</td>\n",
       "      <td>...</td>\n",
       "      <td>...</td>\n",
       "      <td>...</td>\n",
       "      <td>...</td>\n",
       "      <td>...</td>\n",
       "    </tr>\n",
       "    <tr>\n",
       "      <th>1045264</th>\n",
       "      <td>21</td>\n",
       "      <td>46683940</td>\n",
       "      <td>.</td>\n",
       "      <td>T</td>\n",
       "      <td>C</td>\n",
       "      <td>.</td>\n",
       "      <td>PASS</td>\n",
       "      <td>AC=12;AN=5096;DP=21264;AF=0;EAS_AF=0;EUR_AF=0;...</td>\n",
       "      <td>GT</td>\n",
       "      <td>0|0</td>\n",
       "      <td>...</td>\n",
       "      <td>0|0</td>\n",
       "      <td>0|0</td>\n",
       "      <td>0|0</td>\n",
       "      <td>0|0</td>\n",
       "      <td>0|0</td>\n",
       "      <td>0|0</td>\n",
       "      <td>0|0</td>\n",
       "      <td>0|0</td>\n",
       "      <td>0|0</td>\n",
       "      <td>0|0</td>\n",
       "    </tr>\n",
       "    <tr>\n",
       "      <th>1045265</th>\n",
       "      <td>21</td>\n",
       "      <td>46683943</td>\n",
       "      <td>.</td>\n",
       "      <td>T</td>\n",
       "      <td>G</td>\n",
       "      <td>.</td>\n",
       "      <td>PASS</td>\n",
       "      <td>AC=1;AN=5096;DP=21221;AF=0;EAS_AF=0;EUR_AF=0;A...</td>\n",
       "      <td>GT</td>\n",
       "      <td>0|0</td>\n",
       "      <td>...</td>\n",
       "      <td>0|0</td>\n",
       "      <td>0|0</td>\n",
       "      <td>0|0</td>\n",
       "      <td>0|0</td>\n",
       "      <td>0|0</td>\n",
       "      <td>0|0</td>\n",
       "      <td>0|0</td>\n",
       "      <td>0|0</td>\n",
       "      <td>0|0</td>\n",
       "      <td>0|0</td>\n",
       "    </tr>\n",
       "    <tr>\n",
       "      <th>1045266</th>\n",
       "      <td>21</td>\n",
       "      <td>46683987</td>\n",
       "      <td>.</td>\n",
       "      <td>C</td>\n",
       "      <td>T</td>\n",
       "      <td>.</td>\n",
       "      <td>PASS</td>\n",
       "      <td>AC=1;AN=5096;DP=20306;AF=0;EAS_AF=0;EUR_AF=0;A...</td>\n",
       "      <td>GT</td>\n",
       "      <td>0|0</td>\n",
       "      <td>...</td>\n",
       "      <td>0|0</td>\n",
       "      <td>0|0</td>\n",
       "      <td>0|0</td>\n",
       "      <td>0|0</td>\n",
       "      <td>0|0</td>\n",
       "      <td>0|0</td>\n",
       "      <td>0|0</td>\n",
       "      <td>0|0</td>\n",
       "      <td>0|0</td>\n",
       "      <td>0|0</td>\n",
       "    </tr>\n",
       "    <tr>\n",
       "      <th>1045267</th>\n",
       "      <td>21</td>\n",
       "      <td>46684964</td>\n",
       "      <td>.</td>\n",
       "      <td>T</td>\n",
       "      <td>C</td>\n",
       "      <td>.</td>\n",
       "      <td>PASS</td>\n",
       "      <td>AC=2;AN=5096;DP=20010;AF=0;EAS_AF=0;EUR_AF=0;A...</td>\n",
       "      <td>GT</td>\n",
       "      <td>0|0</td>\n",
       "      <td>...</td>\n",
       "      <td>0|0</td>\n",
       "      <td>0|0</td>\n",
       "      <td>0|0</td>\n",
       "      <td>0|0</td>\n",
       "      <td>0|0</td>\n",
       "      <td>0|0</td>\n",
       "      <td>0|0</td>\n",
       "      <td>0|0</td>\n",
       "      <td>0|0</td>\n",
       "      <td>0|0</td>\n",
       "    </tr>\n",
       "    <tr>\n",
       "      <th>1045268</th>\n",
       "      <td>21</td>\n",
       "      <td>46696120</td>\n",
       "      <td>.</td>\n",
       "      <td>A</td>\n",
       "      <td>C</td>\n",
       "      <td>.</td>\n",
       "      <td>PASS</td>\n",
       "      <td>AC=132;AN=5096;DP=21738;AF=0.03;EAS_AF=0;EUR_A...</td>\n",
       "      <td>GT</td>\n",
       "      <td>0|0</td>\n",
       "      <td>...</td>\n",
       "      <td>0|0</td>\n",
       "      <td>0|0</td>\n",
       "      <td>0|0</td>\n",
       "      <td>0|0</td>\n",
       "      <td>0|0</td>\n",
       "      <td>0|0</td>\n",
       "      <td>0|0</td>\n",
       "      <td>0|0</td>\n",
       "      <td>0|0</td>\n",
       "      <td>0|0</td>\n",
       "    </tr>\n",
       "  </tbody>\n",
       "</table>\n",
       "<p>1045269 rows × 108 columns</p>\n",
       "</div>"
      ],
      "text/plain": [
       "         #CHROM       POS ID REF ALT QUAL FILTER  \\\n",
       "0            21   5033871  .   G   A    .   PASS   \n",
       "1            21   5033884  .   G   A    .   PASS   \n",
       "2            21   5033887  .   G   A    .   PASS   \n",
       "3            21   5035658  .   C   T    .   PASS   \n",
       "4            21   5038298  .   A   G    .   PASS   \n",
       "...         ...       ... ..  ..  ..  ...    ...   \n",
       "1045264      21  46683940  .   T   C    .   PASS   \n",
       "1045265      21  46683943  .   T   G    .   PASS   \n",
       "1045266      21  46683987  .   C   T    .   PASS   \n",
       "1045267      21  46684964  .   T   C    .   PASS   \n",
       "1045268      21  46696120  .   A   C    .   PASS   \n",
       "\n",
       "                                                      INFO FORMAT HG01595  \\\n",
       "0        AC=5;AN=5096;DP=7186;AF=0;EAS_AF=0;EUR_AF=0;AF...     GT     0|0   \n",
       "1        AC=463;AN=5096;DP=6818;AF=0.09;EAS_AF=0.02;EUR...     GT     0|0   \n",
       "2        AC=32;AN=5096;DP=6774;AF=0.01;EAS_AF=0;EUR_AF=...     GT     0|0   \n",
       "3        AC=2016;AN=5096;DP=12604;AF=0.4;EAS_AF=0.63;EU...     GT     1|1   \n",
       "4        AC=649;AN=5096;DP=10027;AF=0.13;EAS_AF=0.02;EU...     GT     0|0   \n",
       "...                                                    ...    ...     ...   \n",
       "1045264  AC=12;AN=5096;DP=21264;AF=0;EAS_AF=0;EUR_AF=0;...     GT     0|0   \n",
       "1045265  AC=1;AN=5096;DP=21221;AF=0;EAS_AF=0;EUR_AF=0;A...     GT     0|0   \n",
       "1045266  AC=1;AN=5096;DP=20306;AF=0;EAS_AF=0;EUR_AF=0;A...     GT     0|0   \n",
       "1045267  AC=2;AN=5096;DP=20010;AF=0;EAS_AF=0;EUR_AF=0;A...     GT     0|0   \n",
       "1045268  AC=132;AN=5096;DP=21738;AF=0.03;EAS_AF=0;EUR_A...     GT     0|0   \n",
       "\n",
       "         ... HG02137 HG02138 HG02139 HG02140 HG02141 HG02142 HG02512 HG02513  \\\n",
       "0        ...     0|0     0|0     0|0     0|0     0|0     0|0     0|0     0|0   \n",
       "1        ...     0|0     0|0     0|0     0|0     0|0     0|0     0|0     0|0   \n",
       "2        ...     0|0     0|0     0|0     0|0     0|0     0|0     0|0     0|0   \n",
       "3        ...     0|0     0|0     1|1     0|1     1|1     1|1     1|1     0|0   \n",
       "4        ...     0|0     0|0     0|0     0|0     0|0     0|0     0|0     0|0   \n",
       "...      ...     ...     ...     ...     ...     ...     ...     ...     ...   \n",
       "1045264  ...     0|0     0|0     0|0     0|0     0|0     0|0     0|0     0|0   \n",
       "1045265  ...     0|0     0|0     0|0     0|0     0|0     0|0     0|0     0|0   \n",
       "1045266  ...     0|0     0|0     0|0     0|0     0|0     0|0     0|0     0|0   \n",
       "1045267  ...     0|0     0|0     0|0     0|0     0|0     0|0     0|0     0|0   \n",
       "1045268  ...     0|0     0|0     0|0     0|0     0|0     0|0     0|0     0|0   \n",
       "\n",
       "        HG02521 HG02522  \n",
       "0           0|0     0|0  \n",
       "1           1|0     0|0  \n",
       "2           0|0     0|0  \n",
       "3           0|1     1|0  \n",
       "4           1|0     0|0  \n",
       "...         ...     ...  \n",
       "1045264     0|0     0|0  \n",
       "1045265     0|0     0|0  \n",
       "1045266     0|0     0|0  \n",
       "1045267     0|0     0|0  \n",
       "1045268     0|0     0|0  \n",
       "\n",
       "[1045269 rows x 108 columns]"
      ]
     },
     "execution_count": 18,
     "metadata": {},
     "output_type": "execute_result"
    }
   ],
   "source": [
    "df"
   ]
  },
  {
   "cell_type": "code",
   "execution_count": 19,
   "id": "1a8129e0",
   "metadata": {},
   "outputs": [
    {
     "data": {
      "text/plain": [
       "(1045269, 108)"
      ]
     },
     "execution_count": 19,
     "metadata": {},
     "output_type": "execute_result"
    }
   ],
   "source": [
    "df.shape"
   ]
  },
  {
   "cell_type": "code",
   "execution_count": 20,
   "id": "f4d169c6",
   "metadata": {},
   "outputs": [],
   "source": [
    "#edf = pd.read_csv(infile, sep = \"\\t\", skiprows=skiprows, usecols=cols, engine='c')"
   ]
  },
  {
   "cell_type": "code",
   "execution_count": 27,
   "id": "1c461d91",
   "metadata": {},
   "outputs": [],
   "source": [
    "df.to_csv(outfile, index=False)"
   ]
  },
  {
   "cell_type": "code",
   "execution_count": 28,
   "id": "0d6d36a6",
   "metadata": {},
   "outputs": [],
   "source": [
    "df.to_csv(outfile_gz, index=False, compression='gzip')"
   ]
  },
  {
   "cell_type": "code",
   "execution_count": 22,
   "id": "3776bf51",
   "metadata": {},
   "outputs": [],
   "source": [
    "#cdf = pd.read_csv(infile_gz, sep = \"\\t\", skiprows=skiprows, usecols=cols, engine='c', compression='gzip')"
   ]
  },
  {
   "cell_type": "code",
   "execution_count": 23,
   "id": "af0e0c22",
   "metadata": {},
   "outputs": [],
   "source": [
    "#pdf = pd.read_csv(infile_gz, skiprows=19, header=None, sep = \"\\t\", engine='pyarrow', compression='gzip')"
   ]
  },
  {
   "cell_type": "code",
   "execution_count": null,
   "id": "b1dfae09",
   "metadata": {},
   "outputs": [],
   "source": []
  }
 ],
 "metadata": {
  "kernelspec": {
   "display_name": "ripasso",
   "language": "python",
   "name": "python3"
  },
  "language_info": {
   "codemirror_mode": {
    "name": "ipython",
    "version": 3
   },
   "file_extension": ".py",
   "mimetype": "text/x-python",
   "name": "python",
   "nbconvert_exporter": "python",
   "pygments_lexer": "ipython3",
   "version": "3.11.11"
  }
 },
 "nbformat": 4,
 "nbformat_minor": 5
}
